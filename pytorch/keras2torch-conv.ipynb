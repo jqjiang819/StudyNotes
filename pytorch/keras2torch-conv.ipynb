{
 "nbformat": 4,
 "nbformat_minor": 2,
 "metadata": {
  "language_info": {
   "name": "python",
   "codemirror_mode": {
    "name": "ipython",
    "version": 3
   },
   "version": "3.7.6-final"
  },
  "orig_nbformat": 2,
  "file_extension": ".py",
  "mimetype": "text/x-python",
  "name": "python",
  "npconvert_exporter": "python",
  "pygments_lexer": "ipython3",
  "version": 3,
  "kernelspec": {
   "name": "python37664bitdlenvcondad2fc8b09e43c45c2800ad1b3f4fb6f7b",
   "display_name": "Python 3.7.6 64-bit ('dlenv': conda)"
  }
 },
 "cells": [
  {
   "cell_type": "markdown",
   "execution_count": null,
   "metadata": {},
   "outputs": [],
   "source": [
    "# Keras2Torch - Convolution"
   ]
  },
  {
   "cell_type": "markdown",
   "execution_count": 4,
   "metadata": {},
   "outputs": [],
   "source": [
    "## Conv1D\n",
    "\n",
    "![textcnn](assets/textcnn.png)"
   ]
  },
  {
   "cell_type": "markdown",
   "execution_count": null,
   "metadata": {},
   "outputs": [],
   "source": [
    "### Keras\n",
    "\n",
    "Note: kernel_size + pool_size - 1 = sequence_length"
   ]
  },
  {
   "cell_type": "code",
   "execution_count": 1,
   "metadata": {},
   "outputs": [
    {
     "name": "stderr",
     "output_type": "stream",
     "text": "Using TensorFlow backend.\nModel: \"model_1\"\n_________________________________________________________________\nLayer (type)                 Output Shape              Param #   \n=================================================================\ninput_1 (InputLayer)         (None, 7, 5)              0         \n_________________________________________________________________\nconv1d_1 (Conv1D)            (None, 5, 2)              32        \n_________________________________________________________________\nmax_pooling1d_1 (MaxPooling1 (None, 1, 2)              0         \n=================================================================\nTotal params: 32\nTrainable params: 32\nNon-trainable params: 0\n_________________________________________________________________\n"
    }
   ],
   "source": [
    "from keras.models import Model\n",
    "from keras.layers import *\n",
    "\n",
    "x = Input(shape=(7, 5))\n",
    "h = Conv1D(filters=2, kernel_size=3, activation='relu')(x)\n",
    "h = MaxPool1D(pool_size=5)(h)\n",
    "\n",
    "model = Model(x, h)\n",
    "model.summary()"
   ]
  },
  {
   "cell_type": "markdown",
   "execution_count": 15,
   "metadata": {},
   "outputs": [],
   "source": [
    "### Torch\n",
    "\n",
    "filters --> output_channels, embedding_dim --> in_channels"
   ]
  },
  {
   "cell_type": "code",
   "execution_count": 2,
   "metadata": {},
   "outputs": [
    {
     "name": "stdout",
     "output_type": "stream",
     "text": "----------------------------------------------------------------\n        Layer (type)               Output Shape         Param #\n================================================================\n            Conv1d-1                 [-1, 2, 5]              32\n              ReLU-2                 [-1, 2, 5]               0\n         MaxPool1d-3                 [-1, 2, 1]               0\n================================================================\nTotal params: 32\nTrainable params: 32\nNon-trainable params: 0\n----------------------------------------------------------------\nInput size (MB): 0.00\nForward/backward pass size (MB): 0.00\nParams size (MB): 0.00\nEstimated Total Size (MB): 0.00\n----------------------------------------------------------------\n"
    }
   ],
   "source": [
    "import torch.nn as nn\n",
    "from torchsummary import summary\n",
    "\n",
    "model = nn.Sequential(\n",
    "    nn.Conv1d(in_channels=5, out_channels=2, kernel_size=3),\n",
    "    nn.ReLU(),\n",
    "    nn.MaxPool1d(kernel_size=5)\n",
    ")\n",
    "summary(model, (5, 7), device=\"cpu\")"
   ]
  },
  {
   "cell_type": "markdown",
   "execution_count": null,
   "metadata": {},
   "outputs": [],
   "source": [
    "Note that in keras, input shape is (batch_size, seq_len, channels), while in torch, input shape is (batch_size, channels, seq_len)"
   ]
  }
 ]
}